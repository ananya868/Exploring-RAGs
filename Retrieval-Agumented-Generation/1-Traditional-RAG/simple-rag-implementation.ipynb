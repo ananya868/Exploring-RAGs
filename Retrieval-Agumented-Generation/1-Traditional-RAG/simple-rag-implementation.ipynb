{
 "cells": [
  {
   "cell_type": "markdown",
   "id": "0017b94c",
   "metadata": {},
   "source": [
    "## **Simple RAG**"
   ]
  },
  {
   "cell_type": "markdown",
   "id": "f5bfbde8",
   "metadata": {},
   "source": [
    "---\n",
    "**❓ What it is?** \n",
    "\n",
    "Retrieval-Augmented Generation is a methodology in AI that combines a retrieval mechanism with a generative language model (like gpt). \n",
    "  \n",
    "> **Easy explained 🪄** \n",
    ">\n",
    "> Imagine you're asking a librarian a complex question. Instead of guessing, he searches through books to find context and then answers using it. \n",
    "\n",
    "\n",
    "**💡 Why it is needed?**\n",
    "\n",
    "It is essential to reduce hallucinations, improve response accuracy, and enable effective integration of selected data with the LLM.\n",
    "\n",
    "> **Easy explained 🪄**\n",
    ">\n",
    "> Imagine a student working on a space science project. When searching on Google, he may come across a lot of conflicting information. But if the student uses an LLM that's connected to the latest, verified space science data, he can receive accurate and reliable answers quickly.\n",
    "\n",
    "  \n",
    "**⚙️ How it works?**\n",
    "\n",
    "Simple RAG operated in primarily three steps: \n",
    "- Creating a knowledge base: The main textual data is processed and converted into vector embeddings (which store the information in numerical form), then indexed and store in either memory or vector database.\n",
    "- Retrieval: When a user pass a query, semantic similarity matching techniques are used to fetch most relevant piece of information from the knowledge base that is stored.\n",
    "- Generation: The fetched context is passed on to a LLM, which is specifically prompted to only use the context to write answer.\n",
    "\n",
    "> **Easy explained 🪄**\n",
    ">\n",
    "> Picture a chef who needs a recipe. First, they'll check a cookbook (a knowledge base) for the right ingredient and steps (retrieval). Then, they explain how to cook the dish in their own words (generation).\n",
    "\n",
    "---"
   ]
  },
  {
   "cell_type": "markdown",
   "id": "9aa93d89",
   "metadata": {},
   "source": [
    "**Workflow**\n",
    "\n",
    "-- image here -- \n",
    "\n",
    "---"
   ]
  },
  {
   "cell_type": "markdown",
   "id": "85b050f5",
   "metadata": {},
   "source": [
    "### **Code Implementation**"
   ]
  },
  {
   "cell_type": "markdown",
   "id": "926cb17a",
   "metadata": {},
   "source": [
    "**1. Building knowledge base**"
   ]
  },
  {
   "cell_type": "code",
   "execution_count": null,
   "id": "9511af1c",
   "metadata": {},
   "outputs": [],
   "source": []
  }
 ],
 "metadata": {
  "kernelspec": {
   "display_name": ".venv",
   "language": "python",
   "name": "python3"
  },
  "language_info": {
   "codemirror_mode": {
    "name": "ipython",
    "version": 3
   },
   "file_extension": ".py",
   "mimetype": "text/x-python",
   "name": "python",
   "nbconvert_exporter": "python",
   "pygments_lexer": "ipython3",
   "version": "3.11.5"
  }
 },
 "nbformat": 4,
 "nbformat_minor": 5
}
